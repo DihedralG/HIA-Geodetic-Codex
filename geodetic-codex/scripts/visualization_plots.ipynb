# Python visualization notebook
{
 "cells": [
  {
   "cell_type": "markdown",
   "metadata": {},
   "source": [
    "# Visualization of Site Alignments\n",
    "This notebook generates geospatial visualizations of the alignment data using `geopandas`, `matplotlib`, and `shapely`."
   ]
  },
  {
   "cell_type": "code",
   "execution_count": null,
   "metadata": {},
   "outputs": [],
   "source": [
    "# Install necessary libraries if not installed\n",
    "!pip install geopandas shapely matplotlib\n",
    "\n",
    "import geopandas as gpd\n",
    "import matplotlib.pyplot as plt\n",
    "from shapely.geometry import Point\n",
    "\n",
    "# Load site coordinate data\n",
    "site_data = gpd.read_file(\"data/site_coordinates.csv\")\n",
    "\n",
    "# Convert to GeoDataFrame\n",
    "geometry = [Point(lon, lat) for lat, lon in zip(site_data[\"Latitude\"], site_data[\"Longitude\"])]\n",
    "geo_df = gpd.GeoDataFrame(site_data, geometry=geometry)\n",
    "\n",
    "# Load a base world map\n",
    "world = gpd.read_file(gpd.datasets.get_path('naturalearth_lowres'))\n",
    "\n",
    "# Plot the world map with site alignments\n",
    "fig, ax = plt.subplots(figsize=(12, 6))\n",
    "world.plot(ax=ax, color='lightgrey')\n",
    "geo_df.plot(ax=ax, marker='o', color='red', markersize=5, label=\"Archaeological Sites\")\n",
    "\n",
    "plt.legend()\n",
    "plt.title(\"Geospatial Visualization of Site Alignments\")\n",
    "plt.show()"
   ]
  }
 ],
 "metadata": {
  "kernelspec": {
   "display_name": "Python 3",
   "language": "python",
   "name": "python3"
  },
  "language_info": {
   "codemirror_mode": {
    "name": "ipython",
    "version": 3
   },
   "file_extension": ".py",
   "mimetype": "text/x-python",
   "name": "python",
   "nbconvert_exporter": "python",
   "pygments_lexer": "ipython3",
   "version": "3.7.10"
  }
 },
 "nbformat": 4,
 "nbformat_minor": 4
}
